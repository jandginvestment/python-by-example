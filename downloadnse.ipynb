{
  "nbformat": 4,
  "nbformat_minor": 0,
  "metadata": {
    "colab": {
      "provenance": [],
      "authorship_tag": "ABX9TyNLftBjtJREQWQqQcyjG1Z6",
      "include_colab_link": true
    },
    "kernelspec": {
      "name": "python3",
      "display_name": "Python 3"
    },
    "language_info": {
      "name": "python"
    }
  },
  "cells": [
    {
      "cell_type": "markdown",
      "metadata": {
        "id": "view-in-github",
        "colab_type": "text"
      },
      "source": [
        "<a href=\"https://colab.research.google.com/github/jandginvestment/python-by-example/blob/main/downloadnse.ipynb\" target=\"_parent\"><img src=\"https://colab.research.google.com/assets/colab-badge.svg\" alt=\"Open In Colab\"/></a>"
      ]
    },
    {
      "cell_type": "code",
      "execution_count": 3,
      "metadata": {
        "colab": {
          "base_uri": "https://localhost:8080/"
        },
        "id": "6cSihiSG-Taf",
        "outputId": "769837ce-39f3-4051-c03a-cd6ea44473bb"
      },
      "outputs": [
        {
          "output_type": "stream",
          "name": "stdout",
          "text": [
            "\r[*********************100%%**********************]  1 of 1 completed\n",
            "Date\n",
            "2023-09-22    19674.25\n",
            "Name: Close, dtype: float64\n"
          ]
        }
      ],
      "source": [
        "import yfinance as yf\n",
        "\n",
        "# Get the Nifty 50 index ticker symbol\n",
        "nifty_symbol = \"^NSEI\"\n",
        "\n",
        "# Download historical daily data for the Nifty 50 index\n",
        "nifty_data = yf.download(nifty_symbol, period=\"1d\", interval=\"1d\")\n",
        "\n",
        "# Print the Nifty 50 index closing price for the past week\n",
        "print(nifty_data[\"Close\"][-7:])"
      ]
    }
  ]
}