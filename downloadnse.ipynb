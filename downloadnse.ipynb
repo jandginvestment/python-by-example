{
  "nbformat": 4,
  "nbformat_minor": 0,
  "metadata": {
    "colab": {
      "provenance": [],
      "authorship_tag": "ABX9TyPRW4fhDqBET2Iq9MSmGWAQ",
      "include_colab_link": true
    },
    "kernelspec": {
      "name": "python3",
      "display_name": "Python 3"
    },
    "language_info": {
      "name": "python"
    }
  },
  "cells": [
    {
      "cell_type": "markdown",
      "metadata": {
        "id": "view-in-github",
        "colab_type": "text"
      },
      "source": [
        "<a href=\"https://colab.research.google.com/github/jandginvestment/python-by-example/blob/main/downloadnse.ipynb\" target=\"_parent\"><img src=\"https://colab.research.google.com/assets/colab-badge.svg\" alt=\"Open In Colab\"/></a>"
      ]
    },
    {
      "cell_type": "code",
      "execution_count": 1,
      "metadata": {
        "colab": {
          "base_uri": "https://localhost:8080/"
        },
        "id": "6cSihiSG-Taf",
        "outputId": "8f569923-0af6-4747-85a1-8fd67ee78917"
      },
      "outputs": [
        {
          "output_type": "stream",
          "name": "stdout",
          "text": [
            "\r[*********************100%%**********************]  1 of 1 completed\n",
            "Date\n",
            "2023-03-21    521.849976\n",
            "2023-03-22    521.549988\n",
            "2023-03-23    512.750000\n",
            "2023-03-24    505.350006\n",
            "2023-03-27    510.149994\n",
            "2023-03-28    508.100006\n",
            "2023-03-29    516.500000\n",
            "Name: Close, dtype: float64\n"
          ]
        }
      ],
      "source": [
        "import yfinance as yf\n",
        "\n",
        "# Get the SBI ticker symbol\n",
        "sbi_symbol = \"SBIN.NS\"\n",
        "\n",
        "# Download historical daily data for SBI between the dates \"2023-01-01\" and \"2023-03-31\"\n",
        "sbi_data = yf.download(sbi_symbol, start=\"2023-01-01\", end=\"2023-03-31\", interval=\"1d\")\n",
        "\n",
        "# Print the SBI closing price for the past week\n",
        "print(sbi_data[\"Close\"][-7:])"
      ]
    }
  ]
}